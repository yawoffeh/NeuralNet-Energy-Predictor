{
  "nbformat": 4,
  "nbformat_minor": 0,
  "metadata": {
    "colab": {
      "provenance": [],
      "authorship_tag": "ABX9TyP+iMyMXYutJtoQz2aevp6F",
      "include_colab_link": true
    },
    "kernelspec": {
      "name": "python3",
      "display_name": "Python 3"
    },
    "language_info": {
      "name": "python"
    }
  },
  "cells": [
    {
      "cell_type": "markdown",
      "metadata": {
        "id": "view-in-github",
        "colab_type": "text"
      },
      "source": [
        "<a href=\"https://colab.research.google.com/github/yawoffeh/NeuralNet-Energy-Predictor/blob/main/Electrical_Energy_Output.ipynb\" target=\"_parent\"><img src=\"https://colab.research.google.com/assets/colab-badge.svg\" alt=\"Open In Colab\"/></a>"
      ]
    },
    {
      "cell_type": "markdown",
      "source": [
        "## Predicting the net electrical energy output with ANN (tensorflow 2)"
      ],
      "metadata": {
        "id": "EVivXZiMOJrG"
      }
    },
    {
      "cell_type": "code",
      "source": [
        "from google.colab import drive\n",
        "drive.mount(\"MyDrive\")"
      ],
      "metadata": {
        "colab": {
          "base_uri": "https://localhost:8080/"
        },
        "id": "qxBuhMLHRScd",
        "outputId": "f20b68e9-2bfe-4a1f-a42c-a7b3bf1b4434"
      },
      "execution_count": 1,
      "outputs": [
        {
          "output_type": "stream",
          "name": "stdout",
          "text": [
            "Mounted at MyDrive\n"
          ]
        }
      ]
    },
    {
      "cell_type": "code",
      "source": [
        "\"\"\"Path to the dataset\"\"\"\n",
        "path = \"/content/MyDrive/MyDrive/Final Folder/Dataset/Folds5x2_pp.xlsx\""
      ],
      "metadata": {
        "id": "8PVe_1pTRV7O"
      },
      "execution_count": 2,
      "outputs": []
    },
    {
      "cell_type": "code",
      "execution_count": 3,
      "metadata": {
        "id": "4S6PwqEnN_8r"
      },
      "outputs": [],
      "source": [
        "import numpy as np\n",
        "import pandas as pd\n",
        "import tensorflow as tf"
      ]
    },
    {
      "cell_type": "markdown",
      "source": [
        "## Loading our Dataset"
      ],
      "metadata": {
        "id": "kPXy4DIGSJ8f"
      }
    },
    {
      "cell_type": "code",
      "source": [
        "data = pd.read_excel(path)"
      ],
      "metadata": {
        "id": "-j4VV3R3SJfm"
      },
      "execution_count": 4,
      "outputs": []
    },
    {
      "cell_type": "code",
      "source": [
        "data.head()"
      ],
      "metadata": {
        "colab": {
          "base_uri": "https://localhost:8080/",
          "height": 206
        },
        "id": "WJChLM_oSSVE",
        "outputId": "ec8c9ab3-bbf5-44ae-bd33-61537a6ae503"
      },
      "execution_count": 5,
      "outputs": [
        {
          "output_type": "execute_result",
          "data": {
            "text/plain": [
              "      AT      V       AP     RH      PE\n",
              "0  14.96  41.76  1024.07  73.17  463.26\n",
              "1  25.18  62.96  1020.04  59.08  444.37\n",
              "2   5.11  39.40  1012.16  92.14  488.56\n",
              "3  20.86  57.32  1010.24  76.64  446.48\n",
              "4  10.82  37.50  1009.23  96.62  473.90"
            ],
            "text/html": [
              "\n",
              "  <div id=\"df-973972ac-3a52-420b-8b68-535b3772ee66\" class=\"colab-df-container\">\n",
              "    <div>\n",
              "<style scoped>\n",
              "    .dataframe tbody tr th:only-of-type {\n",
              "        vertical-align: middle;\n",
              "    }\n",
              "\n",
              "    .dataframe tbody tr th {\n",
              "        vertical-align: top;\n",
              "    }\n",
              "\n",
              "    .dataframe thead th {\n",
              "        text-align: right;\n",
              "    }\n",
              "</style>\n",
              "<table border=\"1\" class=\"dataframe\">\n",
              "  <thead>\n",
              "    <tr style=\"text-align: right;\">\n",
              "      <th></th>\n",
              "      <th>AT</th>\n",
              "      <th>V</th>\n",
              "      <th>AP</th>\n",
              "      <th>RH</th>\n",
              "      <th>PE</th>\n",
              "    </tr>\n",
              "  </thead>\n",
              "  <tbody>\n",
              "    <tr>\n",
              "      <th>0</th>\n",
              "      <td>14.96</td>\n",
              "      <td>41.76</td>\n",
              "      <td>1024.07</td>\n",
              "      <td>73.17</td>\n",
              "      <td>463.26</td>\n",
              "    </tr>\n",
              "    <tr>\n",
              "      <th>1</th>\n",
              "      <td>25.18</td>\n",
              "      <td>62.96</td>\n",
              "      <td>1020.04</td>\n",
              "      <td>59.08</td>\n",
              "      <td>444.37</td>\n",
              "    </tr>\n",
              "    <tr>\n",
              "      <th>2</th>\n",
              "      <td>5.11</td>\n",
              "      <td>39.40</td>\n",
              "      <td>1012.16</td>\n",
              "      <td>92.14</td>\n",
              "      <td>488.56</td>\n",
              "    </tr>\n",
              "    <tr>\n",
              "      <th>3</th>\n",
              "      <td>20.86</td>\n",
              "      <td>57.32</td>\n",
              "      <td>1010.24</td>\n",
              "      <td>76.64</td>\n",
              "      <td>446.48</td>\n",
              "    </tr>\n",
              "    <tr>\n",
              "      <th>4</th>\n",
              "      <td>10.82</td>\n",
              "      <td>37.50</td>\n",
              "      <td>1009.23</td>\n",
              "      <td>96.62</td>\n",
              "      <td>473.90</td>\n",
              "    </tr>\n",
              "  </tbody>\n",
              "</table>\n",
              "</div>\n",
              "    <div class=\"colab-df-buttons\">\n",
              "\n",
              "  <div class=\"colab-df-container\">\n",
              "    <button class=\"colab-df-convert\" onclick=\"convertToInteractive('df-973972ac-3a52-420b-8b68-535b3772ee66')\"\n",
              "            title=\"Convert this dataframe to an interactive table.\"\n",
              "            style=\"display:none;\">\n",
              "\n",
              "  <svg xmlns=\"http://www.w3.org/2000/svg\" height=\"24px\" viewBox=\"0 -960 960 960\">\n",
              "    <path d=\"M120-120v-720h720v720H120Zm60-500h600v-160H180v160Zm220 220h160v-160H400v160Zm0 220h160v-160H400v160ZM180-400h160v-160H180v160Zm440 0h160v-160H620v160ZM180-180h160v-160H180v160Zm440 0h160v-160H620v160Z\"/>\n",
              "  </svg>\n",
              "    </button>\n",
              "\n",
              "  <style>\n",
              "    .colab-df-container {\n",
              "      display:flex;\n",
              "      gap: 12px;\n",
              "    }\n",
              "\n",
              "    .colab-df-convert {\n",
              "      background-color: #E8F0FE;\n",
              "      border: none;\n",
              "      border-radius: 50%;\n",
              "      cursor: pointer;\n",
              "      display: none;\n",
              "      fill: #1967D2;\n",
              "      height: 32px;\n",
              "      padding: 0 0 0 0;\n",
              "      width: 32px;\n",
              "    }\n",
              "\n",
              "    .colab-df-convert:hover {\n",
              "      background-color: #E2EBFA;\n",
              "      box-shadow: 0px 1px 2px rgba(60, 64, 67, 0.3), 0px 1px 3px 1px rgba(60, 64, 67, 0.15);\n",
              "      fill: #174EA6;\n",
              "    }\n",
              "\n",
              "    .colab-df-buttons div {\n",
              "      margin-bottom: 4px;\n",
              "    }\n",
              "\n",
              "    [theme=dark] .colab-df-convert {\n",
              "      background-color: #3B4455;\n",
              "      fill: #D2E3FC;\n",
              "    }\n",
              "\n",
              "    [theme=dark] .colab-df-convert:hover {\n",
              "      background-color: #434B5C;\n",
              "      box-shadow: 0px 1px 3px 1px rgba(0, 0, 0, 0.15);\n",
              "      filter: drop-shadow(0px 1px 2px rgba(0, 0, 0, 0.3));\n",
              "      fill: #FFFFFF;\n",
              "    }\n",
              "  </style>\n",
              "\n",
              "    <script>\n",
              "      const buttonEl =\n",
              "        document.querySelector('#df-973972ac-3a52-420b-8b68-535b3772ee66 button.colab-df-convert');\n",
              "      buttonEl.style.display =\n",
              "        google.colab.kernel.accessAllowed ? 'block' : 'none';\n",
              "\n",
              "      async function convertToInteractive(key) {\n",
              "        const element = document.querySelector('#df-973972ac-3a52-420b-8b68-535b3772ee66');\n",
              "        const dataTable =\n",
              "          await google.colab.kernel.invokeFunction('convertToInteractive',\n",
              "                                                    [key], {});\n",
              "        if (!dataTable) return;\n",
              "\n",
              "        const docLinkHtml = 'Like what you see? Visit the ' +\n",
              "          '<a target=\"_blank\" href=https://colab.research.google.com/notebooks/data_table.ipynb>data table notebook</a>'\n",
              "          + ' to learn more about interactive tables.';\n",
              "        element.innerHTML = '';\n",
              "        dataTable['output_type'] = 'display_data';\n",
              "        await google.colab.output.renderOutput(dataTable, element);\n",
              "        const docLink = document.createElement('div');\n",
              "        docLink.innerHTML = docLinkHtml;\n",
              "        element.appendChild(docLink);\n",
              "      }\n",
              "    </script>\n",
              "  </div>\n",
              "\n",
              "\n",
              "<div id=\"df-6f815e56-b538-40f5-8cdd-7ba375bd4413\">\n",
              "  <button class=\"colab-df-quickchart\" onclick=\"quickchart('df-6f815e56-b538-40f5-8cdd-7ba375bd4413')\"\n",
              "            title=\"Suggest charts\"\n",
              "            style=\"display:none;\">\n",
              "\n",
              "<svg xmlns=\"http://www.w3.org/2000/svg\" height=\"24px\"viewBox=\"0 0 24 24\"\n",
              "     width=\"24px\">\n",
              "    <g>\n",
              "        <path d=\"M19 3H5c-1.1 0-2 .9-2 2v14c0 1.1.9 2 2 2h14c1.1 0 2-.9 2-2V5c0-1.1-.9-2-2-2zM9 17H7v-7h2v7zm4 0h-2V7h2v10zm4 0h-2v-4h2v4z\"/>\n",
              "    </g>\n",
              "</svg>\n",
              "  </button>\n",
              "\n",
              "<style>\n",
              "  .colab-df-quickchart {\n",
              "      --bg-color: #E8F0FE;\n",
              "      --fill-color: #1967D2;\n",
              "      --hover-bg-color: #E2EBFA;\n",
              "      --hover-fill-color: #174EA6;\n",
              "      --disabled-fill-color: #AAA;\n",
              "      --disabled-bg-color: #DDD;\n",
              "  }\n",
              "\n",
              "  [theme=dark] .colab-df-quickchart {\n",
              "      --bg-color: #3B4455;\n",
              "      --fill-color: #D2E3FC;\n",
              "      --hover-bg-color: #434B5C;\n",
              "      --hover-fill-color: #FFFFFF;\n",
              "      --disabled-bg-color: #3B4455;\n",
              "      --disabled-fill-color: #666;\n",
              "  }\n",
              "\n",
              "  .colab-df-quickchart {\n",
              "    background-color: var(--bg-color);\n",
              "    border: none;\n",
              "    border-radius: 50%;\n",
              "    cursor: pointer;\n",
              "    display: none;\n",
              "    fill: var(--fill-color);\n",
              "    height: 32px;\n",
              "    padding: 0;\n",
              "    width: 32px;\n",
              "  }\n",
              "\n",
              "  .colab-df-quickchart:hover {\n",
              "    background-color: var(--hover-bg-color);\n",
              "    box-shadow: 0 1px 2px rgba(60, 64, 67, 0.3), 0 1px 3px 1px rgba(60, 64, 67, 0.15);\n",
              "    fill: var(--button-hover-fill-color);\n",
              "  }\n",
              "\n",
              "  .colab-df-quickchart-complete:disabled,\n",
              "  .colab-df-quickchart-complete:disabled:hover {\n",
              "    background-color: var(--disabled-bg-color);\n",
              "    fill: var(--disabled-fill-color);\n",
              "    box-shadow: none;\n",
              "  }\n",
              "\n",
              "  .colab-df-spinner {\n",
              "    border: 2px solid var(--fill-color);\n",
              "    border-color: transparent;\n",
              "    border-bottom-color: var(--fill-color);\n",
              "    animation:\n",
              "      spin 1s steps(1) infinite;\n",
              "  }\n",
              "\n",
              "  @keyframes spin {\n",
              "    0% {\n",
              "      border-color: transparent;\n",
              "      border-bottom-color: var(--fill-color);\n",
              "      border-left-color: var(--fill-color);\n",
              "    }\n",
              "    20% {\n",
              "      border-color: transparent;\n",
              "      border-left-color: var(--fill-color);\n",
              "      border-top-color: var(--fill-color);\n",
              "    }\n",
              "    30% {\n",
              "      border-color: transparent;\n",
              "      border-left-color: var(--fill-color);\n",
              "      border-top-color: var(--fill-color);\n",
              "      border-right-color: var(--fill-color);\n",
              "    }\n",
              "    40% {\n",
              "      border-color: transparent;\n",
              "      border-right-color: var(--fill-color);\n",
              "      border-top-color: var(--fill-color);\n",
              "    }\n",
              "    60% {\n",
              "      border-color: transparent;\n",
              "      border-right-color: var(--fill-color);\n",
              "    }\n",
              "    80% {\n",
              "      border-color: transparent;\n",
              "      border-right-color: var(--fill-color);\n",
              "      border-bottom-color: var(--fill-color);\n",
              "    }\n",
              "    90% {\n",
              "      border-color: transparent;\n",
              "      border-bottom-color: var(--fill-color);\n",
              "    }\n",
              "  }\n",
              "</style>\n",
              "\n",
              "  <script>\n",
              "    async function quickchart(key) {\n",
              "      const quickchartButtonEl =\n",
              "        document.querySelector('#' + key + ' button');\n",
              "      quickchartButtonEl.disabled = true;  // To prevent multiple clicks.\n",
              "      quickchartButtonEl.classList.add('colab-df-spinner');\n",
              "      try {\n",
              "        const charts = await google.colab.kernel.invokeFunction(\n",
              "            'suggestCharts', [key], {});\n",
              "      } catch (error) {\n",
              "        console.error('Error during call to suggestCharts:', error);\n",
              "      }\n",
              "      quickchartButtonEl.classList.remove('colab-df-spinner');\n",
              "      quickchartButtonEl.classList.add('colab-df-quickchart-complete');\n",
              "    }\n",
              "    (() => {\n",
              "      let quickchartButtonEl =\n",
              "        document.querySelector('#df-6f815e56-b538-40f5-8cdd-7ba375bd4413 button');\n",
              "      quickchartButtonEl.style.display =\n",
              "        google.colab.kernel.accessAllowed ? 'block' : 'none';\n",
              "    })();\n",
              "  </script>\n",
              "</div>\n",
              "\n",
              "    </div>\n",
              "  </div>\n"
            ]
          },
          "metadata": {},
          "execution_count": 5
        }
      ]
    },
    {
      "cell_type": "markdown",
      "source": [
        "## Data Preprocessing"
      ],
      "metadata": {
        "id": "UWOd2-duQnVX"
      }
    },
    {
      "cell_type": "markdown",
      "source": [
        "### Seperating main features from and target values(dependent variable vector) from the dataset\n",
        "\n",
        "\n",
        "Features consist of hourly average ambient variables\n",
        "- Temperature (T) in the range 1.81°C and 37.11°C,\n",
        "- Ambient Pressure (AP) in the range 992.89-1033.30 milibar,\n",
        "- Relative Humidity (RH) in the range 25.56% to 100.16%\n",
        "- Exhaust Vacuum (V) in teh range 25.36-81.56 cm Hg\n",
        "- Net hourly electrical energy output (EP) 420.26-495.76 MW"
      ],
      "metadata": {
        "id": "Nf0vCERgTR06"
      }
    },
    {
      "cell_type": "code",
      "source": [
        "X = data.iloc[:, :-1].values\n",
        "y = data.iloc[:, -1].values"
      ],
      "metadata": {
        "id": "OZ3mSmvYQpzo"
      },
      "execution_count": 6,
      "outputs": []
    },
    {
      "cell_type": "markdown",
      "source": [
        "### Spliting the dataset into train and test data"
      ],
      "metadata": {
        "id": "-g1bQTNxWC__"
      }
    },
    {
      "cell_type": "code",
      "source": [
        "from sklearn.model_selection import train_test_split"
      ],
      "metadata": {
        "id": "sEDDjR9bVcqI"
      },
      "execution_count": 7,
      "outputs": []
    },
    {
      "cell_type": "code",
      "source": [
        "X_train, X_test, y_train, y_test = train_test_split(X, y, test_size=0.2, random_state=0)"
      ],
      "metadata": {
        "id": "U3d8xElOWOy5"
      },
      "execution_count": 8,
      "outputs": []
    },
    {
      "cell_type": "markdown",
      "source": [
        "## Building the ANN"
      ],
      "metadata": {
        "id": "g06QUJCtWfJF"
      }
    },
    {
      "cell_type": "markdown",
      "source": [
        "#### Initializing ANN model"
      ],
      "metadata": {
        "id": "M-SxKAD0X_9W"
      }
    },
    {
      "cell_type": "code",
      "source": [
        "ann_model = tf.keras.models.Sequential()"
      ],
      "metadata": {
        "id": "UdOkHvnRWa5_"
      },
      "execution_count": 9,
      "outputs": []
    },
    {
      "cell_type": "markdown",
      "source": [
        "#### Adding the Input layer and the first hidden layer"
      ],
      "metadata": {
        "id": "WXZ62hBOamcj"
      }
    },
    {
      "cell_type": "code",
      "source": [
        "ann_model.add(tf.keras.layers.Dense(units=6, activation='relu'))"
      ],
      "metadata": {
        "id": "LfRIUjafXx8_"
      },
      "execution_count": 10,
      "outputs": []
    },
    {
      "cell_type": "markdown",
      "source": [
        "#### Adding the second hidden layer\n",
        "\n"
      ],
      "metadata": {
        "id": "GcDDSczGhXxN"
      }
    },
    {
      "cell_type": "code",
      "source": [
        "ann_model.add(tf.keras.layers.Dense(units=6, activation='relu'))"
      ],
      "metadata": {
        "id": "0YRrpW__hkYW"
      },
      "execution_count": 11,
      "outputs": []
    },
    {
      "cell_type": "markdown",
      "source": [
        "#### Adding the output layer"
      ],
      "metadata": {
        "id": "cBle0-yshto6"
      }
    },
    {
      "cell_type": "code",
      "source": [
        "ann_model.add(tf.keras.layers.Dense(units=1))"
      ],
      "metadata": {
        "id": "pKZxEvpbhQHc"
      },
      "execution_count": 12,
      "outputs": []
    },
    {
      "cell_type": "markdown",
      "source": [
        "### Compiling the our model"
      ],
      "metadata": {
        "id": "2nfNeg2nch0G"
      }
    },
    {
      "cell_type": "code",
      "source": [
        "ann_model.compile(optimizer=\"adam\", loss=\"mean_squared_error\")"
      ],
      "metadata": {
        "id": "MotJHEr1iIJk"
      },
      "execution_count": 13,
      "outputs": []
    },
    {
      "cell_type": "markdown",
      "source": [
        "### Training our neural network"
      ],
      "metadata": {
        "id": "wtCvhBu_f_8E"
      }
    },
    {
      "cell_type": "code",
      "source": [
        "ann_model.fit(X_train, y_train, batch_size=32, epochs=100)"
      ],
      "metadata": {
        "colab": {
          "base_uri": "https://localhost:8080/"
        },
        "id": "exoCGn1Pf9wm",
        "outputId": "2f0f72d3-3360-4193-805b-caccc6de097d"
      },
      "execution_count": 16,
      "outputs": [
        {
          "output_type": "stream",
          "name": "stdout",
          "text": [
            "Epoch 1/100\n",
            "240/240 [==============================] - 0s 2ms/step - loss: 28.9944\n",
            "Epoch 2/100\n",
            "240/240 [==============================] - 0s 2ms/step - loss: 27.4684\n",
            "Epoch 3/100\n",
            "240/240 [==============================] - 0s 2ms/step - loss: 27.4811\n",
            "Epoch 4/100\n",
            "240/240 [==============================] - 0s 2ms/step - loss: 27.4598\n",
            "Epoch 5/100\n",
            "240/240 [==============================] - 0s 2ms/step - loss: 26.4331\n",
            "Epoch 6/100\n",
            "240/240 [==============================] - 0s 2ms/step - loss: 27.7063\n",
            "Epoch 7/100\n",
            "240/240 [==============================] - 0s 2ms/step - loss: 27.0731\n",
            "Epoch 8/100\n",
            "240/240 [==============================] - 0s 2ms/step - loss: 27.5904\n",
            "Epoch 9/100\n",
            "240/240 [==============================] - 0s 2ms/step - loss: 26.9707\n",
            "Epoch 10/100\n",
            "240/240 [==============================] - 0s 2ms/step - loss: 27.4429\n",
            "Epoch 11/100\n",
            "240/240 [==============================] - 1s 2ms/step - loss: 28.2036\n",
            "Epoch 12/100\n",
            "240/240 [==============================] - 1s 3ms/step - loss: 27.3279\n",
            "Epoch 13/100\n",
            "240/240 [==============================] - 1s 3ms/step - loss: 26.5834\n",
            "Epoch 14/100\n",
            "240/240 [==============================] - 1s 3ms/step - loss: 26.6708\n",
            "Epoch 15/100\n",
            "240/240 [==============================] - 1s 4ms/step - loss: 27.2644\n",
            "Epoch 16/100\n",
            "240/240 [==============================] - 1s 3ms/step - loss: 27.1373\n",
            "Epoch 17/100\n",
            "240/240 [==============================] - 0s 2ms/step - loss: 27.2568\n",
            "Epoch 18/100\n",
            "240/240 [==============================] - 0s 2ms/step - loss: 27.1111\n",
            "Epoch 19/100\n",
            "240/240 [==============================] - 0s 2ms/step - loss: 26.9049\n",
            "Epoch 20/100\n",
            "240/240 [==============================] - 0s 2ms/step - loss: 27.5881\n",
            "Epoch 21/100\n",
            "240/240 [==============================] - 0s 2ms/step - loss: 27.5755\n",
            "Epoch 22/100\n",
            "240/240 [==============================] - 0s 2ms/step - loss: 27.5372\n",
            "Epoch 23/100\n",
            "240/240 [==============================] - 0s 2ms/step - loss: 27.1540\n",
            "Epoch 24/100\n",
            "240/240 [==============================] - 0s 2ms/step - loss: 27.2529\n",
            "Epoch 25/100\n",
            "240/240 [==============================] - 0s 2ms/step - loss: 27.6547\n",
            "Epoch 26/100\n",
            "240/240 [==============================] - 0s 2ms/step - loss: 26.6513\n",
            "Epoch 27/100\n",
            "240/240 [==============================] - 0s 2ms/step - loss: 27.3927\n",
            "Epoch 28/100\n",
            "240/240 [==============================] - 0s 2ms/step - loss: 27.5169\n",
            "Epoch 29/100\n",
            "240/240 [==============================] - 0s 2ms/step - loss: 27.7779\n",
            "Epoch 30/100\n",
            "240/240 [==============================] - 0s 2ms/step - loss: 26.9958\n",
            "Epoch 31/100\n",
            "240/240 [==============================] - 0s 2ms/step - loss: 27.8074\n",
            "Epoch 32/100\n",
            "240/240 [==============================] - 0s 2ms/step - loss: 27.2752\n",
            "Epoch 33/100\n",
            "240/240 [==============================] - 0s 2ms/step - loss: 28.1260\n",
            "Epoch 34/100\n",
            "240/240 [==============================] - 1s 3ms/step - loss: 26.8772\n",
            "Epoch 35/100\n",
            "240/240 [==============================] - 1s 3ms/step - loss: 26.5833\n",
            "Epoch 36/100\n",
            "240/240 [==============================] - 0s 2ms/step - loss: 27.1397\n",
            "Epoch 37/100\n",
            "240/240 [==============================] - 1s 5ms/step - loss: 27.1733\n",
            "Epoch 38/100\n",
            "240/240 [==============================] - 1s 3ms/step - loss: 26.6059\n",
            "Epoch 39/100\n",
            "240/240 [==============================] - 1s 4ms/step - loss: 27.5054\n",
            "Epoch 40/100\n",
            "240/240 [==============================] - 1s 4ms/step - loss: 27.0923\n",
            "Epoch 41/100\n",
            "240/240 [==============================] - 1s 4ms/step - loss: 27.1130\n",
            "Epoch 42/100\n",
            "240/240 [==============================] - 0s 2ms/step - loss: 27.5299\n",
            "Epoch 43/100\n",
            "240/240 [==============================] - 0s 2ms/step - loss: 26.9310\n",
            "Epoch 44/100\n",
            "240/240 [==============================] - 0s 2ms/step - loss: 26.8096\n",
            "Epoch 45/100\n",
            "240/240 [==============================] - 1s 2ms/step - loss: 27.4376\n",
            "Epoch 46/100\n",
            "240/240 [==============================] - 1s 4ms/step - loss: 26.5901\n",
            "Epoch 47/100\n",
            "240/240 [==============================] - 1s 5ms/step - loss: 28.2477\n",
            "Epoch 48/100\n",
            "240/240 [==============================] - 1s 3ms/step - loss: 26.9555\n",
            "Epoch 49/100\n",
            "240/240 [==============================] - 1s 3ms/step - loss: 27.3675\n",
            "Epoch 50/100\n",
            "240/240 [==============================] - 1s 3ms/step - loss: 27.1623\n",
            "Epoch 51/100\n",
            "240/240 [==============================] - 1s 2ms/step - loss: 27.3584\n",
            "Epoch 52/100\n",
            "240/240 [==============================] - 1s 3ms/step - loss: 26.9408\n",
            "Epoch 53/100\n",
            "240/240 [==============================] - 1s 3ms/step - loss: 27.5324\n",
            "Epoch 54/100\n",
            "240/240 [==============================] - 1s 2ms/step - loss: 27.2377\n",
            "Epoch 55/100\n",
            "240/240 [==============================] - 1s 2ms/step - loss: 27.2861\n",
            "Epoch 56/100\n",
            "240/240 [==============================] - 1s 2ms/step - loss: 27.2619\n",
            "Epoch 57/100\n",
            "240/240 [==============================] - 1s 4ms/step - loss: 27.0018\n",
            "Epoch 58/100\n",
            "240/240 [==============================] - 1s 3ms/step - loss: 27.1737\n",
            "Epoch 59/100\n",
            "240/240 [==============================] - 1s 3ms/step - loss: 26.7509\n",
            "Epoch 60/100\n",
            "240/240 [==============================] - 1s 3ms/step - loss: 26.6836\n",
            "Epoch 61/100\n",
            "240/240 [==============================] - 1s 3ms/step - loss: 27.8579\n",
            "Epoch 62/100\n",
            "240/240 [==============================] - 0s 2ms/step - loss: 27.5605\n",
            "Epoch 63/100\n",
            "240/240 [==============================] - 0s 2ms/step - loss: 27.7400\n",
            "Epoch 64/100\n",
            "240/240 [==============================] - 0s 2ms/step - loss: 27.0135\n",
            "Epoch 65/100\n",
            "240/240 [==============================] - 0s 2ms/step - loss: 27.8261\n",
            "Epoch 66/100\n",
            "240/240 [==============================] - 0s 2ms/step - loss: 27.7561\n",
            "Epoch 67/100\n",
            "240/240 [==============================] - 0s 2ms/step - loss: 28.0113\n",
            "Epoch 68/100\n",
            "240/240 [==============================] - 0s 2ms/step - loss: 26.7612\n",
            "Epoch 69/100\n",
            "240/240 [==============================] - 0s 2ms/step - loss: 26.8835\n",
            "Epoch 70/100\n",
            "240/240 [==============================] - 0s 2ms/step - loss: 28.0184\n",
            "Epoch 71/100\n",
            "240/240 [==============================] - 0s 2ms/step - loss: 27.3063\n",
            "Epoch 72/100\n",
            "240/240 [==============================] - 0s 2ms/step - loss: 26.9277\n",
            "Epoch 73/100\n",
            "240/240 [==============================] - 0s 2ms/step - loss: 27.1816\n",
            "Epoch 74/100\n",
            "240/240 [==============================] - 0s 2ms/step - loss: 27.0420\n",
            "Epoch 75/100\n",
            "240/240 [==============================] - 0s 2ms/step - loss: 26.9840\n",
            "Epoch 76/100\n",
            "240/240 [==============================] - 0s 2ms/step - loss: 27.1985\n",
            "Epoch 77/100\n",
            "240/240 [==============================] - 0s 2ms/step - loss: 26.9263\n",
            "Epoch 78/100\n",
            "240/240 [==============================] - 0s 2ms/step - loss: 27.3988\n",
            "Epoch 79/100\n",
            "240/240 [==============================] - 0s 2ms/step - loss: 27.0438\n",
            "Epoch 80/100\n",
            "240/240 [==============================] - 0s 2ms/step - loss: 27.5769\n",
            "Epoch 81/100\n",
            "240/240 [==============================] - 0s 2ms/step - loss: 27.3531\n",
            "Epoch 82/100\n",
            "240/240 [==============================] - 0s 2ms/step - loss: 27.0617\n",
            "Epoch 83/100\n",
            "240/240 [==============================] - 0s 2ms/step - loss: 27.0084\n",
            "Epoch 84/100\n",
            "240/240 [==============================] - 1s 3ms/step - loss: 27.2159\n",
            "Epoch 85/100\n",
            "240/240 [==============================] - 1s 3ms/step - loss: 27.6195\n",
            "Epoch 86/100\n",
            "240/240 [==============================] - 1s 3ms/step - loss: 27.3957\n",
            "Epoch 87/100\n",
            "240/240 [==============================] - 1s 3ms/step - loss: 27.2982\n",
            "Epoch 88/100\n",
            "240/240 [==============================] - 1s 3ms/step - loss: 27.2403\n",
            "Epoch 89/100\n",
            "240/240 [==============================] - 1s 2ms/step - loss: 27.0863\n",
            "Epoch 90/100\n",
            "240/240 [==============================] - 0s 2ms/step - loss: 26.5912\n",
            "Epoch 91/100\n",
            "240/240 [==============================] - 0s 2ms/step - loss: 28.6051\n",
            "Epoch 92/100\n",
            "240/240 [==============================] - 1s 3ms/step - loss: 27.0192\n",
            "Epoch 93/100\n",
            "240/240 [==============================] - 1s 2ms/step - loss: 27.3303\n",
            "Epoch 94/100\n",
            "240/240 [==============================] - 1s 2ms/step - loss: 26.9727\n",
            "Epoch 95/100\n",
            "240/240 [==============================] - 1s 2ms/step - loss: 26.6544\n",
            "Epoch 96/100\n",
            "240/240 [==============================] - 1s 2ms/step - loss: 27.2560\n",
            "Epoch 97/100\n",
            "240/240 [==============================] - 1s 4ms/step - loss: 27.0372\n",
            "Epoch 98/100\n",
            "240/240 [==============================] - 1s 3ms/step - loss: 27.4454\n",
            "Epoch 99/100\n",
            "240/240 [==============================] - 1s 2ms/step - loss: 26.8850\n",
            "Epoch 100/100\n",
            "240/240 [==============================] - 0s 2ms/step - loss: 27.2356\n"
          ]
        },
        {
          "output_type": "execute_result",
          "data": {
            "text/plain": [
              "<keras.src.callbacks.History at 0x7c507f878370>"
            ]
          },
          "metadata": {},
          "execution_count": 16
        }
      ]
    },
    {
      "cell_type": "markdown",
      "source": [
        "#### Making our prediction with our test dataset"
      ],
      "metadata": {
        "id": "WrX2XLMphbHL"
      }
    },
    {
      "cell_type": "code",
      "source": [
        "y_pred = ann_model.predict(X_test)"
      ],
      "metadata": {
        "colab": {
          "base_uri": "https://localhost:8080/"
        },
        "id": "gis8utwDgMIF",
        "outputId": "e97dd371-d3f1-4859-bc49-8fc2b546ed62"
      },
      "execution_count": 17,
      "outputs": [
        {
          "output_type": "stream",
          "name": "stdout",
          "text": [
            "60/60 [==============================] - 0s 4ms/step\n"
          ]
        }
      ]
    },
    {
      "cell_type": "code",
      "source": [
        "from sklearn.metrics import mean_squared_error"
      ],
      "metadata": {
        "id": "1hcj8uQsiO8S"
      },
      "execution_count": 19,
      "outputs": []
    },
    {
      "cell_type": "code",
      "source": [
        "y_pred"
      ],
      "metadata": {
        "colab": {
          "base_uri": "https://localhost:8080/"
        },
        "id": "yJERa3QfiL6A",
        "outputId": "0ada0246-e74d-4a95-8bd2-0f6770a20074"
      },
      "execution_count": 18,
      "outputs": [
        {
          "output_type": "execute_result",
          "data": {
            "text/plain": [
              "array([[430.80554],\n",
              "       [461.87888],\n",
              "       [465.4213 ],\n",
              "       ...,\n",
              "       [472.56506],\n",
              "       [439.51843],\n",
              "       [458.65768]], dtype=float32)"
            ]
          },
          "metadata": {},
          "execution_count": 18
        }
      ]
    },
    {
      "cell_type": "code",
      "source": [
        "mse = mean_squared_error(y_test, y_pred)"
      ],
      "metadata": {
        "id": "0JmmA2YSiUty"
      },
      "execution_count": 20,
      "outputs": []
    },
    {
      "cell_type": "code",
      "source": [
        "mse"
      ],
      "metadata": {
        "colab": {
          "base_uri": "https://localhost:8080/"
        },
        "id": "GvsATzGCiNec",
        "outputId": "ff11b8ed-1802-4191-85b1-302f20ff1299"
      },
      "execution_count": 21,
      "outputs": [
        {
          "output_type": "execute_result",
          "data": {
            "text/plain": [
              "24.78416864805233"
            ]
          },
          "metadata": {},
          "execution_count": 21
        }
      ]
    },
    {
      "cell_type": "code",
      "source": [
        "np.set_printoptions(precision=2)\n",
        "print(np.concatenate((y_pred.reshape(len(y_pred),1), y_test.reshape(len(y_test),1)),1))"
      ],
      "metadata": {
        "colab": {
          "base_uri": "https://localhost:8080/"
        },
        "id": "d5RIT9-sihSW",
        "outputId": "4c4451ff-80be-4eb2-c809-ec4af3b5683a"
      },
      "execution_count": 22,
      "outputs": [
        {
          "output_type": "stream",
          "name": "stdout",
          "text": [
            "[[430.81 431.23]\n",
            " [461.88 460.01]\n",
            " [465.42 461.14]\n",
            " ...\n",
            " [472.57 473.26]\n",
            " [439.52 438.  ]\n",
            " [458.66 463.28]]\n"
          ]
        }
      ]
    },
    {
      "cell_type": "code",
      "source": [],
      "metadata": {
        "id": "QU7c5AGzjJy4"
      },
      "execution_count": null,
      "outputs": []
    }
  ]
}